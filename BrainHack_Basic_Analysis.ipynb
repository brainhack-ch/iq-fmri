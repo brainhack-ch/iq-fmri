{
 "cells": [
  {
   "cell_type": "code",
   "execution_count": 166,
   "metadata": {},
   "outputs": [],
   "source": [
    "# Imports the required packages for our analyses\n",
    "import numpy as np\n",
    "import scipy as sp\n",
    "import scipy.io as SPO\n",
    "from matplotlib import pyplot as plt\n",
    "import pandas as pd\n",
    "from numpy.linalg import inv"
   ]
  },
  {
   "cell_type": "code",
   "execution_count": null,
   "metadata": {},
   "outputs": [],
   "source": []
  },
  {
   "cell_type": "code",
   "execution_count": 167,
   "metadata": {},
   "outputs": [],
   "source": [
    "# Functional activation over time\n",
    "B = SPO.loadmat('../Data/RS_Imaging/Data1_LR.mat');\n",
    "C = SPO.loadmat('../Data/RS_Imaging/Data1_RL.mat');\n",
    "\n",
    "Data1 = B['Data1_LR'];\n",
    "Data2 = C['Data1_RL'];"
   ]
  },
  {
   "cell_type": "code",
   "execution_count": 168,
   "metadata": {},
   "outputs": [],
   "source": [
    "# Structural connectivity\n",
    "A = SPO.loadmat('../Data/Structural_Data/A_Glasser.mat');\n",
    "Adj = A['A_Glasser'];"
   ]
  },
  {
   "cell_type": "code",
   "execution_count": 169,
   "metadata": {},
   "outputs": [],
   "source": [
    "# Behavioral variables\n",
    "D = SPO.loadmat('../Data/Behavioral_Data/Fluid.mat');\n",
    "E = SPO.loadmat('../Data/Behavioral_Data/Crystal.mat');\n",
    "F = SPO.loadmat('../Data/Behavioral_Data/Total.mat');\n",
    "\n",
    "Fluid = D['Fluid'];\n",
    "Crystal = E['Crystal'];\n",
    "Total = F['Total'];"
   ]
  },
  {
   "cell_type": "code",
   "execution_count": 100,
   "metadata": {},
   "outputs": [],
   "source": []
  },
  {
   "cell_type": "code",
   "execution_count": 170,
   "metadata": {},
   "outputs": [
    {
     "data": {
      "text/plain": [
       "(360, 1190, 100)"
      ]
     },
     "execution_count": 170,
     "metadata": {},
     "output_type": "execute_result"
    }
   ],
   "source": [
    "Data1.shape"
   ]
  },
  {
   "cell_type": "code",
   "execution_count": 176,
   "metadata": {},
   "outputs": [
    {
     "name": "stderr",
     "output_type": "stream",
     "text": [
      "/anaconda3/lib/python3.7/site-packages/ipykernel_launcher.py:26: RuntimeWarning: divide by zero encountered in log\n"
     ]
    }
   ],
   "source": [
    "# 1. Dynamic mode decomposition\n",
    "\n",
    "# Construction of the matrix of regressors and associated \"output matrix\"\n",
    "\n",
    "# Dynamic modes and their eigenvalues will be stored in a list\n",
    "Damp = np.zeros((100,360),dtype=np.complex_);\n",
    "Period = np.zeros((100,360),dtype=np.complex_);\n",
    "Modes = np.zeros((100,360,360),dtype=np.complex_);\n",
    "\n",
    "# Loops across subjects\n",
    "for i in range (0,100):\n",
    "    \n",
    "    # Samples time courses for the subject of interest\n",
    "    X = Data1[:,:,i]; X = X[:,1:1190];\n",
    "    Y = Data1[:,:,i]; Y = Y[:,0:1189];\n",
    "    \n",
    "    # Computes the solution of the regression\n",
    "    A = np.matmul(np.matmul(X,Y.T),inv(np.matmul(Y+1e-10,Y.T+1e-10)));\n",
    "    \n",
    "    # Computes the dynamic modes (DM) and their eigenvalues (Lambda)\n",
    "    Lambda,DM = np.linalg.eig(A);\n",
    "    \n",
    "    # Damping time and period for each mode\n",
    "    \n",
    "    for m in range (0,360):\n",
    "        Damp[i,m] = -1/np.log(np.abs(Lambda[m]));\n",
    "        \n",
    "        if (np.abs(np.angle(Lambda[m])) == 0):\n",
    "            Period[i,m] = 0;\n",
    "        else:\n",
    "            Period[i,m] = 2*np.pi/np.abs(np.angle(Lambda[m]));\n",
    "\n",
    "        Modes[i,m,:] = DM[:,m];\n",
    "\n",
    "# Damp and Period contain the damping time and period of the dynamic modes, while\n",
    "# Modes contains the modes themselves\n",
    "\n",
    "\n",
    "\n",
    "\n",
    "# Ideas for improved feature computations:\n",
    "# - Tune the framework to derive population-level dynamic modes"
   ]
  },
  {
   "cell_type": "code",
   "execution_count": 177,
   "metadata": {},
   "outputs": [],
   "source": [
    "# 2. Graph Signal Processing\n",
    "\n",
    "# Construction of the Laplacian matrix from the adjacency\n",
    "D = np.zeros((360,360));\n",
    "\n",
    "for i in range (0,360):\n",
    "    D[i,i] = np.sum(Adj[:,i]);\n",
    "\n",
    "# For a start, let us use the standard definition of the Laplacian\n",
    "L = D - Adj;\n",
    "\n",
    "# Eigendecomposition of the Laplacian\n",
    "Sigma,V = np.linalg.eig(L);\n",
    "\n",
    "# Sorts the results to arange the eigenmodes in increasing level of frequency\n",
    "IDX = np.argsort(Sigma);\n",
    "\n",
    "Sigma = Sigma[IDX];\n",
    "V = V[:,IDX];\n",
    "\n",
    "C = np.zeros((100,1190,360));\n",
    "\n",
    "# For each time point and each subject, we can now extract a measure of strength of expression along the building blocks\n",
    "for s in range (0,100):\n",
    "    for t in range (0,1190):\n",
    "        \n",
    "        # Projection on each of the building blocks\n",
    "        tmp_data = Data1[:,t,s];\n",
    "        \n",
    "        for b in range (0,360):\n",
    "            C[s,t,b] = np.dot(tmp_data,V[:,b]);\n",
    "\n",
    "# C contains the coefficients depicting, for each of the 360 eigenmodes, how strongly it is expressed\n",
    "# at a given time point in the data\n",
    "\n",
    "\n",
    "\n",
    "\n",
    "\n",
    "# Ideas for improved feature computations:\n",
    "# - Consider averaged values of expression strength across the building blocks with lowest/highest spatial frequency\n",
    "# - Consider statistical testing by comparison to e.g., phase-randomized data, to assess significant excursions\n"
   ]
  },
  {
   "cell_type": "code",
   "execution_count": null,
   "metadata": {},
   "outputs": [],
   "source": [
    "# TO ADD: LINK WITH BEHAVIOUR"
   ]
  },
  {
   "cell_type": "code",
   "execution_count": null,
   "metadata": {},
   "outputs": [],
   "source": []
  },
  {
   "cell_type": "code",
   "execution_count": null,
   "metadata": {},
   "outputs": [],
   "source": []
  },
  {
   "cell_type": "code",
   "execution_count": null,
   "metadata": {},
   "outputs": [],
   "source": []
  }
 ],
 "metadata": {
  "kernelspec": {
   "display_name": "Python 3",
   "language": "python",
   "name": "python3"
  },
  "language_info": {
   "codemirror_mode": {
    "name": "ipython",
    "version": 3
   },
   "file_extension": ".py",
   "mimetype": "text/x-python",
   "name": "python",
   "nbconvert_exporter": "python",
   "pygments_lexer": "ipython3",
   "version": "3.6.7"
  }
 },
 "nbformat": 4,
 "nbformat_minor": 2
}
